{
 "cells": [
  {
   "cell_type": "markdown",
   "id": "ccc4dcdc",
   "metadata": {},
   "source": [
    "# Anime (Japanese Style Animation) Recommendation System"
   ]
  },
  {
   "cell_type": "markdown",
   "id": "33d056aa",
   "metadata": {},
   "source": [
    "**Reference:** https://www.kaggle.com/code/laowingkin/netflix-movie-recommendation/notebook"
   ]
  },
  {
   "cell_type": "markdown",
   "id": "6b759509",
   "metadata": {},
   "source": [
    "## Libraries"
   ]
  },
  {
   "cell_type": "code",
   "execution_count": 1,
   "id": "7c3a7d8a",
   "metadata": {},
   "outputs": [],
   "source": [
    "import re\n",
    "import os\n",
    "import math\n",
    "import glob\n",
    "import numpy as np\n",
    "import pandas as pd\n",
    "import seaborn as sns\n",
    "import matplotlib.pyplot as plt\n",
    "from scipy.sparse import csr_matrix\n",
    "from surprise import Reader, Dataset, SVD\n",
    "from surprise.model_selection import cross_validate"
   ]
  },
  {
   "cell_type": "markdown",
   "id": "3f7347c5",
   "metadata": {},
   "source": [
    "## Import Data"
   ]
  },
  {
   "cell_type": "code",
   "execution_count": 2,
   "id": "e51fd6d3",
   "metadata": {},
   "outputs": [],
   "source": [
    "path = os.getcwd()\n",
    "csv_files = glob.glob(os.path.join(path, \"*.csv\"))\n",
    "  \n",
    "anime = pd.read_csv(csv_files[0])\n",
    "ratings = pd.read_csv(csv_files[1])"
   ]
  },
  {
   "cell_type": "markdown",
   "id": "9a3a5a5b",
   "metadata": {},
   "source": [
    "## Data Exploration "
   ]
  },
  {
   "cell_type": "markdown",
   "id": "d539f7f4",
   "metadata": {},
   "source": [
    "### Anime Dataframe"
   ]
  },
  {
   "cell_type": "code",
   "execution_count": 3,
   "id": "43d1baf2",
   "metadata": {},
   "outputs": [
    {
     "data": {
      "text/html": [
       "<div>\n",
       "<style scoped>\n",
       "    .dataframe tbody tr th:only-of-type {\n",
       "        vertical-align: middle;\n",
       "    }\n",
       "\n",
       "    .dataframe tbody tr th {\n",
       "        vertical-align: top;\n",
       "    }\n",
       "\n",
       "    .dataframe thead th {\n",
       "        text-align: right;\n",
       "    }\n",
       "</style>\n",
       "<table border=\"1\" class=\"dataframe\">\n",
       "  <thead>\n",
       "    <tr style=\"text-align: right;\">\n",
       "      <th></th>\n",
       "      <th>0</th>\n",
       "      <th>1</th>\n",
       "      <th>2</th>\n",
       "    </tr>\n",
       "  </thead>\n",
       "  <tbody>\n",
       "    <tr>\n",
       "      <th>MAL_ID</th>\n",
       "      <td>1</td>\n",
       "      <td>5</td>\n",
       "      <td>6</td>\n",
       "    </tr>\n",
       "    <tr>\n",
       "      <th>Name</th>\n",
       "      <td>Cowboy Bebop</td>\n",
       "      <td>Cowboy Bebop: Tengoku no Tobira</td>\n",
       "      <td>Trigun</td>\n",
       "    </tr>\n",
       "    <tr>\n",
       "      <th>Score</th>\n",
       "      <td>8.78</td>\n",
       "      <td>8.39</td>\n",
       "      <td>8.24</td>\n",
       "    </tr>\n",
       "    <tr>\n",
       "      <th>Genres</th>\n",
       "      <td>Action, Adventure, Comedy, Drama, Sci-Fi, Space</td>\n",
       "      <td>Action, Drama, Mystery, Sci-Fi, Space</td>\n",
       "      <td>Action, Sci-Fi, Adventure, Comedy, Drama, Shounen</td>\n",
       "    </tr>\n",
       "    <tr>\n",
       "      <th>English name</th>\n",
       "      <td>Cowboy Bebop</td>\n",
       "      <td>Cowboy Bebop:The Movie</td>\n",
       "      <td>Trigun</td>\n",
       "    </tr>\n",
       "    <tr>\n",
       "      <th>Japanese name</th>\n",
       "      <td>カウボーイビバップ</td>\n",
       "      <td>カウボーイビバップ 天国の扉</td>\n",
       "      <td>トライガン</td>\n",
       "    </tr>\n",
       "    <tr>\n",
       "      <th>Type</th>\n",
       "      <td>TV</td>\n",
       "      <td>Movie</td>\n",
       "      <td>TV</td>\n",
       "    </tr>\n",
       "    <tr>\n",
       "      <th>Episodes</th>\n",
       "      <td>26</td>\n",
       "      <td>1</td>\n",
       "      <td>26</td>\n",
       "    </tr>\n",
       "    <tr>\n",
       "      <th>Aired</th>\n",
       "      <td>Apr 3, 1998 to Apr 24, 1999</td>\n",
       "      <td>Sep 1, 2001</td>\n",
       "      <td>Apr 1, 1998 to Sep 30, 1998</td>\n",
       "    </tr>\n",
       "    <tr>\n",
       "      <th>Premiered</th>\n",
       "      <td>Spring 1998</td>\n",
       "      <td>Unknown</td>\n",
       "      <td>Spring 1998</td>\n",
       "    </tr>\n",
       "    <tr>\n",
       "      <th>Producers</th>\n",
       "      <td>Bandai Visual</td>\n",
       "      <td>Sunrise, Bandai Visual</td>\n",
       "      <td>Victor Entertainment</td>\n",
       "    </tr>\n",
       "    <tr>\n",
       "      <th>Licensors</th>\n",
       "      <td>Funimation, Bandai Entertainment</td>\n",
       "      <td>Sony Pictures Entertainment</td>\n",
       "      <td>Funimation, Geneon Entertainment USA</td>\n",
       "    </tr>\n",
       "    <tr>\n",
       "      <th>Studios</th>\n",
       "      <td>Sunrise</td>\n",
       "      <td>Bones</td>\n",
       "      <td>Madhouse</td>\n",
       "    </tr>\n",
       "    <tr>\n",
       "      <th>Source</th>\n",
       "      <td>Original</td>\n",
       "      <td>Original</td>\n",
       "      <td>Manga</td>\n",
       "    </tr>\n",
       "    <tr>\n",
       "      <th>Duration</th>\n",
       "      <td>24 min. per ep.</td>\n",
       "      <td>1 hr. 55 min.</td>\n",
       "      <td>24 min. per ep.</td>\n",
       "    </tr>\n",
       "    <tr>\n",
       "      <th>Rating</th>\n",
       "      <td>R - 17+ (violence &amp; profanity)</td>\n",
       "      <td>R - 17+ (violence &amp; profanity)</td>\n",
       "      <td>PG-13 - Teens 13 or older</td>\n",
       "    </tr>\n",
       "    <tr>\n",
       "      <th>Ranked</th>\n",
       "      <td>28.0</td>\n",
       "      <td>159.0</td>\n",
       "      <td>266.0</td>\n",
       "    </tr>\n",
       "    <tr>\n",
       "      <th>Popularity</th>\n",
       "      <td>39</td>\n",
       "      <td>518</td>\n",
       "      <td>201</td>\n",
       "    </tr>\n",
       "    <tr>\n",
       "      <th>Members</th>\n",
       "      <td>1251960</td>\n",
       "      <td>273145</td>\n",
       "      <td>558913</td>\n",
       "    </tr>\n",
       "    <tr>\n",
       "      <th>Favorites</th>\n",
       "      <td>61971</td>\n",
       "      <td>1174</td>\n",
       "      <td>12944</td>\n",
       "    </tr>\n",
       "    <tr>\n",
       "      <th>Watching</th>\n",
       "      <td>105808</td>\n",
       "      <td>4143</td>\n",
       "      <td>29113</td>\n",
       "    </tr>\n",
       "    <tr>\n",
       "      <th>Completed</th>\n",
       "      <td>718161</td>\n",
       "      <td>208333</td>\n",
       "      <td>343492</td>\n",
       "    </tr>\n",
       "    <tr>\n",
       "      <th>On-Hold</th>\n",
       "      <td>71513</td>\n",
       "      <td>1935</td>\n",
       "      <td>25465</td>\n",
       "    </tr>\n",
       "    <tr>\n",
       "      <th>Dropped</th>\n",
       "      <td>26678</td>\n",
       "      <td>770</td>\n",
       "      <td>13925</td>\n",
       "    </tr>\n",
       "    <tr>\n",
       "      <th>Plan to Watch</th>\n",
       "      <td>329800</td>\n",
       "      <td>57964</td>\n",
       "      <td>146918</td>\n",
       "    </tr>\n",
       "    <tr>\n",
       "      <th>Score-10</th>\n",
       "      <td>229170.0</td>\n",
       "      <td>30043.0</td>\n",
       "      <td>50229.0</td>\n",
       "    </tr>\n",
       "    <tr>\n",
       "      <th>Score-9</th>\n",
       "      <td>182126.0</td>\n",
       "      <td>49201.0</td>\n",
       "      <td>75651.0</td>\n",
       "    </tr>\n",
       "    <tr>\n",
       "      <th>Score-8</th>\n",
       "      <td>131625.0</td>\n",
       "      <td>49505.0</td>\n",
       "      <td>86142.0</td>\n",
       "    </tr>\n",
       "    <tr>\n",
       "      <th>Score-7</th>\n",
       "      <td>62330.0</td>\n",
       "      <td>22632.0</td>\n",
       "      <td>49432.0</td>\n",
       "    </tr>\n",
       "    <tr>\n",
       "      <th>Score-6</th>\n",
       "      <td>20688.0</td>\n",
       "      <td>5805.0</td>\n",
       "      <td>15376.0</td>\n",
       "    </tr>\n",
       "    <tr>\n",
       "      <th>Score-5</th>\n",
       "      <td>8904.0</td>\n",
       "      <td>1877.0</td>\n",
       "      <td>5838.0</td>\n",
       "    </tr>\n",
       "    <tr>\n",
       "      <th>Score-4</th>\n",
       "      <td>3184.0</td>\n",
       "      <td>577.0</td>\n",
       "      <td>1965.0</td>\n",
       "    </tr>\n",
       "    <tr>\n",
       "      <th>Score-3</th>\n",
       "      <td>1357.0</td>\n",
       "      <td>221.0</td>\n",
       "      <td>664.0</td>\n",
       "    </tr>\n",
       "    <tr>\n",
       "      <th>Score-2</th>\n",
       "      <td>741.0</td>\n",
       "      <td>109.0</td>\n",
       "      <td>316.0</td>\n",
       "    </tr>\n",
       "    <tr>\n",
       "      <th>Score-1</th>\n",
       "      <td>1580.0</td>\n",
       "      <td>379.0</td>\n",
       "      <td>533.0</td>\n",
       "    </tr>\n",
       "  </tbody>\n",
       "</table>\n",
       "</div>"
      ],
      "text/plain": [
       "                                                             0  \\\n",
       "MAL_ID                                                       1   \n",
       "Name                                              Cowboy Bebop   \n",
       "Score                                                     8.78   \n",
       "Genres         Action, Adventure, Comedy, Drama, Sci-Fi, Space   \n",
       "English name                                      Cowboy Bebop   \n",
       "Japanese name                                        カウボーイビバップ   \n",
       "Type                                                        TV   \n",
       "Episodes                                                    26   \n",
       "Aired                              Apr 3, 1998 to Apr 24, 1999   \n",
       "Premiered                                          Spring 1998   \n",
       "Producers                                        Bandai Visual   \n",
       "Licensors                     Funimation, Bandai Entertainment   \n",
       "Studios                                                Sunrise   \n",
       "Source                                                Original   \n",
       "Duration                                       24 min. per ep.   \n",
       "Rating                          R - 17+ (violence & profanity)   \n",
       "Ranked                                                    28.0   \n",
       "Popularity                                                  39   \n",
       "Members                                                1251960   \n",
       "Favorites                                                61971   \n",
       "Watching                                                105808   \n",
       "Completed                                               718161   \n",
       "On-Hold                                                  71513   \n",
       "Dropped                                                  26678   \n",
       "Plan to Watch                                           329800   \n",
       "Score-10                                              229170.0   \n",
       "Score-9                                               182126.0   \n",
       "Score-8                                               131625.0   \n",
       "Score-7                                                62330.0   \n",
       "Score-6                                                20688.0   \n",
       "Score-5                                                 8904.0   \n",
       "Score-4                                                 3184.0   \n",
       "Score-3                                                 1357.0   \n",
       "Score-2                                                  741.0   \n",
       "Score-1                                                 1580.0   \n",
       "\n",
       "                                                   1  \\\n",
       "MAL_ID                                             5   \n",
       "Name                 Cowboy Bebop: Tengoku no Tobira   \n",
       "Score                                           8.39   \n",
       "Genres         Action, Drama, Mystery, Sci-Fi, Space   \n",
       "English name                  Cowboy Bebop:The Movie   \n",
       "Japanese name                         カウボーイビバップ 天国の扉   \n",
       "Type                                           Movie   \n",
       "Episodes                                           1   \n",
       "Aired                                    Sep 1, 2001   \n",
       "Premiered                                    Unknown   \n",
       "Producers                     Sunrise, Bandai Visual   \n",
       "Licensors                Sony Pictures Entertainment   \n",
       "Studios                                        Bones   \n",
       "Source                                      Original   \n",
       "Duration                               1 hr. 55 min.   \n",
       "Rating                R - 17+ (violence & profanity)   \n",
       "Ranked                                         159.0   \n",
       "Popularity                                       518   \n",
       "Members                                       273145   \n",
       "Favorites                                       1174   \n",
       "Watching                                        4143   \n",
       "Completed                                     208333   \n",
       "On-Hold                                         1935   \n",
       "Dropped                                          770   \n",
       "Plan to Watch                                  57964   \n",
       "Score-10                                     30043.0   \n",
       "Score-9                                      49201.0   \n",
       "Score-8                                      49505.0   \n",
       "Score-7                                      22632.0   \n",
       "Score-6                                       5805.0   \n",
       "Score-5                                       1877.0   \n",
       "Score-4                                        577.0   \n",
       "Score-3                                        221.0   \n",
       "Score-2                                        109.0   \n",
       "Score-1                                        379.0   \n",
       "\n",
       "                                                               2  \n",
       "MAL_ID                                                         6  \n",
       "Name                                                      Trigun  \n",
       "Score                                                       8.24  \n",
       "Genres         Action, Sci-Fi, Adventure, Comedy, Drama, Shounen  \n",
       "English name                                              Trigun  \n",
       "Japanese name                                              トライガン  \n",
       "Type                                                          TV  \n",
       "Episodes                                                      26  \n",
       "Aired                                Apr 1, 1998 to Sep 30, 1998  \n",
       "Premiered                                            Spring 1998  \n",
       "Producers                                   Victor Entertainment  \n",
       "Licensors                   Funimation, Geneon Entertainment USA  \n",
       "Studios                                                 Madhouse  \n",
       "Source                                                     Manga  \n",
       "Duration                                         24 min. per ep.  \n",
       "Rating                                 PG-13 - Teens 13 or older  \n",
       "Ranked                                                     266.0  \n",
       "Popularity                                                   201  \n",
       "Members                                                   558913  \n",
       "Favorites                                                  12944  \n",
       "Watching                                                   29113  \n",
       "Completed                                                 343492  \n",
       "On-Hold                                                    25465  \n",
       "Dropped                                                    13925  \n",
       "Plan to Watch                                             146918  \n",
       "Score-10                                                 50229.0  \n",
       "Score-9                                                  75651.0  \n",
       "Score-8                                                  86142.0  \n",
       "Score-7                                                  49432.0  \n",
       "Score-6                                                  15376.0  \n",
       "Score-5                                                   5838.0  \n",
       "Score-4                                                   1965.0  \n",
       "Score-3                                                    664.0  \n",
       "Score-2                                                    316.0  \n",
       "Score-1                                                    533.0  "
      ]
     },
     "execution_count": 3,
     "metadata": {},
     "output_type": "execute_result"
    }
   ],
   "source": [
    "anime.head(3).T"
   ]
  },
  {
   "cell_type": "code",
   "execution_count": 4,
   "id": "0a1fe5f4",
   "metadata": {},
   "outputs": [
    {
     "name": "stdout",
     "output_type": "stream",
     "text": [
      "<class 'pandas.core.frame.DataFrame'>\n",
      "RangeIndex: 17562 entries, 0 to 17561\n",
      "Data columns (total 35 columns):\n",
      " #   Column         Non-Null Count  Dtype \n",
      "---  ------         --------------  ----- \n",
      " 0   MAL_ID         17562 non-null  int64 \n",
      " 1   Name           17562 non-null  object\n",
      " 2   Score          17562 non-null  object\n",
      " 3   Genres         17562 non-null  object\n",
      " 4   English name   17562 non-null  object\n",
      " 5   Japanese name  17562 non-null  object\n",
      " 6   Type           17562 non-null  object\n",
      " 7   Episodes       17562 non-null  object\n",
      " 8   Aired          17562 non-null  object\n",
      " 9   Premiered      17562 non-null  object\n",
      " 10  Producers      17562 non-null  object\n",
      " 11  Licensors      17562 non-null  object\n",
      " 12  Studios        17562 non-null  object\n",
      " 13  Source         17562 non-null  object\n",
      " 14  Duration       17562 non-null  object\n",
      " 15  Rating         17562 non-null  object\n",
      " 16  Ranked         17562 non-null  object\n",
      " 17  Popularity     17562 non-null  int64 \n",
      " 18  Members        17562 non-null  int64 \n",
      " 19  Favorites      17562 non-null  int64 \n",
      " 20  Watching       17562 non-null  int64 \n",
      " 21  Completed      17562 non-null  int64 \n",
      " 22  On-Hold        17562 non-null  int64 \n",
      " 23  Dropped        17562 non-null  int64 \n",
      " 24  Plan to Watch  17562 non-null  int64 \n",
      " 25  Score-10       17562 non-null  object\n",
      " 26  Score-9        17562 non-null  object\n",
      " 27  Score-8        17562 non-null  object\n",
      " 28  Score-7        17562 non-null  object\n",
      " 29  Score-6        17562 non-null  object\n",
      " 30  Score-5        17562 non-null  object\n",
      " 31  Score-4        17562 non-null  object\n",
      " 32  Score-3        17562 non-null  object\n",
      " 33  Score-2        17562 non-null  object\n",
      " 34  Score-1        17562 non-null  object\n",
      "dtypes: int64(9), object(26)\n",
      "memory usage: 4.7+ MB\n"
     ]
    }
   ],
   "source": [
    "anime.info()"
   ]
  },
  {
   "cell_type": "code",
   "execution_count": 5,
   "id": "aed0d0e7",
   "metadata": {},
   "outputs": [
    {
     "data": {
      "text/plain": [
       "(17562, 35)"
      ]
     },
     "execution_count": 5,
     "metadata": {},
     "output_type": "execute_result"
    }
   ],
   "source": [
    "anime.shape"
   ]
  },
  {
   "cell_type": "markdown",
   "id": "9a0d8007",
   "metadata": {},
   "source": [
    "### Ratings Dataframe"
   ]
  },
  {
   "cell_type": "code",
   "execution_count": 6,
   "id": "507bd4f6",
   "metadata": {},
   "outputs": [
    {
     "data": {
      "text/html": [
       "<div>\n",
       "<style scoped>\n",
       "    .dataframe tbody tr th:only-of-type {\n",
       "        vertical-align: middle;\n",
       "    }\n",
       "\n",
       "    .dataframe tbody tr th {\n",
       "        vertical-align: top;\n",
       "    }\n",
       "\n",
       "    .dataframe thead th {\n",
       "        text-align: right;\n",
       "    }\n",
       "</style>\n",
       "<table border=\"1\" class=\"dataframe\">\n",
       "  <thead>\n",
       "    <tr style=\"text-align: right;\">\n",
       "      <th></th>\n",
       "      <th>user_id</th>\n",
       "      <th>anime_id</th>\n",
       "      <th>rating</th>\n",
       "    </tr>\n",
       "  </thead>\n",
       "  <tbody>\n",
       "    <tr>\n",
       "      <th>0</th>\n",
       "      <td>0</td>\n",
       "      <td>430</td>\n",
       "      <td>9</td>\n",
       "    </tr>\n",
       "    <tr>\n",
       "      <th>1</th>\n",
       "      <td>0</td>\n",
       "      <td>1004</td>\n",
       "      <td>5</td>\n",
       "    </tr>\n",
       "    <tr>\n",
       "      <th>2</th>\n",
       "      <td>0</td>\n",
       "      <td>3010</td>\n",
       "      <td>7</td>\n",
       "    </tr>\n",
       "    <tr>\n",
       "      <th>3</th>\n",
       "      <td>0</td>\n",
       "      <td>570</td>\n",
       "      <td>7</td>\n",
       "    </tr>\n",
       "    <tr>\n",
       "      <th>4</th>\n",
       "      <td>0</td>\n",
       "      <td>2762</td>\n",
       "      <td>9</td>\n",
       "    </tr>\n",
       "  </tbody>\n",
       "</table>\n",
       "</div>"
      ],
      "text/plain": [
       "   user_id  anime_id  rating\n",
       "0        0       430       9\n",
       "1        0      1004       5\n",
       "2        0      3010       7\n",
       "3        0       570       7\n",
       "4        0      2762       9"
      ]
     },
     "execution_count": 6,
     "metadata": {},
     "output_type": "execute_result"
    }
   ],
   "source": [
    "ratings.head()"
   ]
  },
  {
   "cell_type": "code",
   "execution_count": 7,
   "id": "fe92a850",
   "metadata": {},
   "outputs": [
    {
     "name": "stdout",
     "output_type": "stream",
     "text": [
      "<class 'pandas.core.frame.DataFrame'>\n",
      "RangeIndex: 57633278 entries, 0 to 57633277\n",
      "Data columns (total 3 columns):\n",
      " #   Column    Dtype\n",
      "---  ------    -----\n",
      " 0   user_id   int64\n",
      " 1   anime_id  int64\n",
      " 2   rating    int64\n",
      "dtypes: int64(3)\n",
      "memory usage: 1.3 GB\n"
     ]
    }
   ],
   "source": [
    "ratings.info()"
   ]
  },
  {
   "cell_type": "code",
   "execution_count": 8,
   "id": "35d46c50",
   "metadata": {},
   "outputs": [
    {
     "data": {
      "text/plain": [
       "user_id     0\n",
       "anime_id    0\n",
       "rating      0\n",
       "dtype: int64"
      ]
     },
     "execution_count": 8,
     "metadata": {},
     "output_type": "execute_result"
    }
   ],
   "source": [
    "ratings.isnull().sum()"
   ]
  },
  {
   "cell_type": "code",
   "execution_count": 9,
   "id": "b981dee2",
   "metadata": {},
   "outputs": [
    {
     "data": {
      "text/plain": [
       "array([ 9,  5,  7,  8, 10,  6,  4,  3,  2,  1])"
      ]
     },
     "execution_count": 9,
     "metadata": {},
     "output_type": "execute_result"
    }
   ],
   "source": [
    "ratings['rating'].unique()"
   ]
  },
  {
   "cell_type": "code",
   "execution_count": 10,
   "id": "843aaab3",
   "metadata": {},
   "outputs": [
    {
     "data": {
      "text/plain": [
       "57633278"
      ]
     },
     "execution_count": 10,
     "metadata": {},
     "output_type": "execute_result"
    }
   ],
   "source": [
    "ratings.shape[0]"
   ]
  },
  {
   "cell_type": "markdown",
   "id": "8a10ac18",
   "metadata": {},
   "source": [
    "### EDA"
   ]
  },
  {
   "cell_type": "code",
   "execution_count": 11,
   "id": "b92d9405",
   "metadata": {},
   "outputs": [],
   "source": [
    "#Rating Count\n",
    "rating_count = ratings.groupby('rating')['rating'].agg(['count'])\n",
    "rating_count = rating_count.reset_index()\n",
    "rating_count['perc'] = (rating_count['count']/ratings.shape[0]) * 100\n",
    "\n",
    "#Movie Count\n",
    "anime_count = anime.shape[0]\n",
    "\n",
    "#Customer Count\n",
    "cust_count = ratings['user_id'].nunique() - anime_count\n",
    "\n",
    "#Rating Count\n",
    "total_ratings_counted = ratings['user_id'].count() - anime_count"
   ]
  },
  {
   "cell_type": "code",
   "execution_count": 12,
   "id": "ab1e96c7",
   "metadata": {},
   "outputs": [
    {
     "data": {
      "image/png": "[encoded data removed]",
      "text/plain": [
       "<Figure size 864x576 with 1 Axes>"
      ]
     },
     "metadata": {
      "needs_background": "light"
     },
     "output_type": "display_data"
    }
   ],
   "source": [
    "#Plot\n",
    "fig, ax = plt.subplots(figsize = (12,8))\n",
    "\n",
    "#Color Palette's \n",
    "colors = ['#00429d', '#3e67ae', '#618fbf', '#85b7ce', '#b1dfdb', '#ffcab9', '#fd9291', '#e75d6f', '#c52a52', '#93003a'] \n",
    "colors2 = ['#8e0152','#c51b7d', '#de77ae', '#f1b6da', '#fde0ef', '#e6f5d0', '#b8e186', '#7fbc41', '#4d9221', '#276419']\n",
    "colors3 = ['#40004b','#762a83', '#9970ab', '#c2a5cf', '#e7d4e8', '#d9f0d3', '#a6dba0', '#5aae61', '#1b7837', '#00441b']\n",
    "colors4 = ['#7f3b08','#b35806', '#e08214', '#fdb863', '#fee0b6', '#d8daeb', '#b2abd2', '#8073ac', '#542788', '#2d004b']\n",
    "\n",
    "sns.barplot(x = rating_count['rating'], y = rating_count['count'], palette = colors3)\n",
    "\n",
    "#Remove Spines\n",
    "ax.spines['top'].set_visible(False)\n",
    "ax.spines['right'].set_visible(False)\n",
    "\n",
    "#Title & Axis Labels\n",
    "plt.title('Distribution of Ratings', fontsize = 18, loc = 'left')\n",
    "plt.suptitle('Total Entries Reviewed: {:,}  | Customers Who Reviewed: {:,} | Ratings Given: {:,}'.format(anime_count, cust_count, total_ratings_counted), \n",
    "          fontsize=16, x = 0.45, y = 1)\n",
    "\n",
    "#Y-Axis\n",
    "ax.set_yticks([0,2.0e+06,4.0e+06,6.0e+06,8.0e+06,1.0e+07,1.2e+07,1.4e+07])\n",
    "ax.set_yticklabels([0, 2, 4, 6, 8, 10, 12, 14], fontsize = 13)\n",
    "ax.set_ylabel('Count of Ratings in Millions', fontsize = 13)\n",
    "ax.yaxis.set_label_coords(-.06, .8)\n",
    "\n",
    "#X-Axis\n",
    "ax.set_xticklabels([1,2,3,4,5,6,7,8,9,10],fontsize = 13)\n",
    "ax.set_xlabel('Rating', fontsize = 14)\n",
    "ax.xaxis.set_label_coords(0.5,-0.1)\n",
    "\n",
    "#Vertical Line\n",
    "ax.vlines(4.5, 0, 1.5e+7, linestyles='dashed', colors='black',clip_on = False)\n",
    "\n",
    "#Annotations\n",
    "ax.text(0.189, -0.08, 'Negative Sentiment',transform=ax.transAxes, fontsize = 12, fontweight = 'demi')\n",
    "ax.text(0.661, -0.08, 'Positive Sentiment',transform=ax.transAxes, fontsize = 12, fontweight = 'demi')\n",
    "\n",
    "#Annotating Percentages to bar\n",
    "# create a list to collect the plt.patches data\n",
    "totals = []\n",
    "\n",
    "# find the values and append to list\n",
    "for i in ax.patches:\n",
    "    totals.append(i.get_height())\n",
    "\n",
    "# set individual bar lables using above list\n",
    "total = sum(totals)\n",
    "\n",
    "# set individual bar lables using above list\n",
    "for i in ax.patches:\n",
    "    # get_x pulls left or right; get_height pushes up or down\n",
    "    ax.text(i.get_x()+0.11, i.get_height()+100000, \\\n",
    "            str(round((i.get_height()/total)*100, 2))+'%', fontsize=14)\n",
    "        \n",
    "plt.tight_layout()\n",
    "plt.show()"
   ]
  },
  {
   "cell_type": "code",
   "execution_count": 13,
   "id": "a7639930",
   "metadata": {},
   "outputs": [
    {
     "name": "stderr",
     "output_type": "stream",
     "text": [
      "/var/folders/hg/0r3dxxf938z4yxhyv925kjzr0000gn/T/ipykernel_24760/2365221012.py:3: SettingWithCopyWarning: \n",
      "A value is trying to be set on a copy of a slice from a DataFrame.\n",
      "Try using .loc[row_indexer,col_indexer] = value instead\n",
      "\n",
      "See the caveats in the documentation: https://pandas.pydata.org/pandas-docs/stable/user_guide/indexing.html#returning-a-view-versus-a-copy\n",
      "  anime_remove_unknown['Score'] = pd.to_numeric(anime_remove_unknown['Score'], downcast=\"float\")\n"
     ]
    }
   ],
   "source": [
    "anime_remove_unknown = anime.copy()\n",
    "anime_remove_unknown = anime.loc[(anime['Type'] != 'Unknown') & (anime['Score'] != 'Unknown')]\n",
    "anime_remove_unknown['Score'] = pd.to_numeric(anime_remove_unknown['Score'], downcast=\"float\")"
   ]
  },
  {
   "cell_type": "code",
   "execution_count": 14,
   "id": "b3a86550",
   "metadata": {},
   "outputs": [
    {
     "data": {
      "image/png": "[encoded data removed]",
      "text/plain": [
       "<Figure size 1152x576 with 1 Axes>"
      ]
     },
     "metadata": {
      "needs_background": "light"
     },
     "output_type": "display_data"
    }
   ],
   "source": [
    "palette1 = ['#e41a1c','#377eb8','#4daf4a','#984ea3','#ff7f00','#ffff33']\n",
    "palette2 = ['#1b9e77','#d95f02','#7570b3','#e7298a','#66a61e','#e6ab02']\n",
    "\n",
    "sns.displot(data=anime_remove_unknown, x=\"Score\", hue=\"Type\", kind=\"kde\"\n",
    "            ,height=8, aspect=15/8, palette = palette2)\n",
    "\n",
    "plt.title('Distribution of Score across different formats', fontsize = 18, loc = 'left')\n",
    "\n",
    "plt.xlabel('Score', fontsize = 15)\n",
    "plt.ylabel('Density', fontsize = 15)\n",
    "\n",
    "#Remove Spines\n",
    "ax.spines['top'].set_visible(False)\n",
    "ax.spines['right'].set_visible(False)"
   ]
  },
  {
   "cell_type": "markdown",
   "id": "14d0acd4",
   "metadata": {},
   "source": [
    "### Data Cleaning"
   ]
  },
  {
   "cell_type": "code",
   "execution_count": 15,
   "id": "548cd188",
   "metadata": {},
   "outputs": [
    {
     "data": {
      "text/plain": [
       "Index(['MAL_ID', 'Name', 'Score', 'Genres', 'English name', 'Japanese name',\n",
       "       'Type', 'Episodes', 'Aired', 'Premiered', 'Producers', 'Licensors',\n",
       "       'Studios', 'Source', 'Duration', 'Rating', 'Ranked', 'Popularity',\n",
       "       'Members', 'Favorites', 'Watching', 'Completed', 'On-Hold', 'Dropped',\n",
       "       'Plan to Watch', 'Score-10', 'Score-9', 'Score-8', 'Score-7', 'Score-6',\n",
       "       'Score-5', 'Score-4', 'Score-3', 'Score-2', 'Score-1'],\n",
       "      dtype='object')"
      ]
     },
     "execution_count": 15,
     "metadata": {},
     "output_type": "execute_result"
    }
   ],
   "source": [
    "anime.columns"
   ]
  },
  {
   "cell_type": "code",
   "execution_count": 16,
   "id": "09f5925c",
   "metadata": {},
   "outputs": [],
   "source": [
    "#Columns that are not necessary \n",
    "anime_clean = anime.drop(['Genres', 'English name', 'Japanese name',\n",
    "       'Type', 'Episodes', 'Aired', 'Premiered', 'Producers', 'Licensors','Popularity','Members',\n",
    "       'Studios', 'Source', 'Duration', 'Favorites', 'Watching', 'Completed', 'On-Hold', 'Dropped',\n",
    "       'Plan to Watch', 'Score-10', 'Score-9', 'Score-8', 'Score-7', 'Score-6',\n",
    "       'Score-5', 'Score-4', 'Score-3', 'Score-2', 'Score-1'], axis = 1)"
   ]
  },
  {
   "cell_type": "markdown",
   "id": "d410d0b5",
   "metadata": {},
   "source": [
    "### Data Slicing"
   ]
  },
  {
   "cell_type": "markdown",
   "id": "fd932442",
   "metadata": {},
   "source": [
    "- Anime entries with low ratings are removed as these are not popular\n",
    "- Users who have submitted a small amount of reviews are removed as they are not active"
   ]
  },
  {
   "cell_type": "code",
   "execution_count": 17,
   "id": "0401b94d",
   "metadata": {},
   "outputs": [],
   "source": [
    "#A dataframe containing valid rating entries, non-null values\n",
    "df = ratings[pd.notnull(ratings['rating'])]"
   ]
  },
  {
   "cell_type": "code",
   "execution_count": 18,
   "id": "7d6db77a",
   "metadata": {},
   "outputs": [
    {
     "name": "stdout",
     "output_type": "stream",
     "text": [
      "Anime minimum times of review: 2789.0\n"
     ]
    }
   ],
   "source": [
    "f = ['count', 'mean'] #Aggregate functions \n",
    "df_anime_summary = ratings.groupby('anime_id')['rating'].agg(f) #Grouping different anime's by average rating and rating count\n",
    "df_anime_summary.index = df_anime_summary.index.map(int)\n",
    "anime_benchmark = round(df_anime_summary['count'].quantile(0.8),0) #Anime with ratings less than this, will be removed\n",
    "\n",
    "#List of the anime to drop\n",
    "drop_anime_list = df_anime_summary.loc[df_anime_summary['count'] < anime_benchmark].index\n",
    "\n",
    "print('Anime minimum times of review: {}'.format(anime_benchmark))"
   ]
  },
  {
   "cell_type": "code",
   "execution_count": 19,
   "id": "9430c1c0",
   "metadata": {},
   "outputs": [
    {
     "name": "stdout",
     "output_type": "stream",
     "text": [
      "User minimum times of review: 281.0\n"
     ]
    }
   ],
   "source": [
    "df_user_summary = ratings.groupby('user_id')['rating'].agg(f) #Grouping different users by average rating and rating count\n",
    "df_user_summary.index = df_user_summary.index.map(int)\n",
    "user_benchmark = round(df_user_summary['count'].quantile(0.8),0) #Users with less reviews than this, will be removed\n",
    "\n",
    "#List of users to be removed\n",
    "drop_user_list = df_user_summary.loc[df_user_summary['count'] < user_benchmark].index\n",
    "\n",
    "print('User minimum times of review: {}'.format(user_benchmark))"
   ]
  },
  {
   "cell_type": "code",
   "execution_count": 20,
   "id": "df5826b4",
   "metadata": {},
   "outputs": [
    {
     "name": "stdout",
     "output_type": "stream",
     "text": [
      "Original Shape: (57633278, 3)\n",
      "After Trim Shape: (29141216, 3)\n",
      "-Data Examples-\n",
      "          user_id  anime_id  rating\n",
      "189             3     25835       8\n",
      "1010173      6505     21881       8\n",
      "1964912     12164      6547       5\n",
      "2950676     18193     33486       8\n",
      "3936958     24264      6444       6\n",
      "4922471     30206     11887       7\n",
      "5915578     36310     24151       9\n",
      "6903738     42407      6880       9\n",
      "7898567     48462        47      10\n",
      "8858952     54238     38000       6\n",
      "9857392     60516      1575      10\n",
      "10825386    66274     25835       4\n",
      "11838892    72513     22535       9\n",
      "12853855    78791     12477       8\n",
      "13840016    84886      6895       7\n",
      "14853754    91114     30363       4\n",
      "15860652    97361     31821       7\n",
      "16840586   103409     20507       6\n",
      "17826559   109448     13335       6\n",
      "18806303   115482      1943       8\n",
      "19817766   121866       389       8\n",
      "20799434   127858     35466       9\n",
      "21758327   133558     18671      10\n",
      "22756460   139728     33926       8\n",
      "23759768   146103      6023       6\n",
      "24772264   152478     20507       8\n",
      "25791431   158899     38524       9\n",
      "26778973   164809       225       7\n",
      "27759064   170847     41353       6\n",
      "28754333   176908      5678       7\n",
      "29735807   182909      4772       8\n",
      "30717190   188913      7588       6\n",
      "31723198   194903     34580       7\n",
      "32675559   200712     33489       8\n",
      "33669661   206812      1913       6\n",
      "34660590   212764     24705       8\n",
      "35646653   218723     13759       8\n",
      "36618423   224726     10110       6\n",
      "37623787   231027     35839       8\n",
      "38606841   237118       269       8\n",
      "39593681   243195     32268       8\n",
      "40592124   249375      5365       9\n",
      "41586777   255308     38572       7\n",
      "42592607   261622      6633       7\n",
      "43576083   267703     37259       7\n",
      "44543460   273513      3358       6\n",
      "45524813   279290      2970       8\n",
      "46527685   285372      1889      10\n",
      "47496076   291224     37447       1\n",
      "48471507   297077     38297       7\n",
      "49460578   303178      1210       8\n",
      "50429343   309175     12079       6\n",
      "51451517   315486       322       8\n",
      "52423220   321490     24873       7\n",
      "53387851   327164     33524       7\n",
      "54383098   333263     10110       6\n",
      "55370363   339388      8937       7\n",
      "56373955   345623     31741       8\n",
      "57348045   351622      6127       7\n"
     ]
    }
   ],
   "source": [
    "print('Original Shape: {}'.format(df.shape))\n",
    "\n",
    "#Removing anime and users that do not fit into the benchmark from the dataframe\n",
    "df = df[~df['anime_id'].isin(drop_anime_list)]\n",
    "df = df[~df['user_id'].isin(drop_user_list)]\n",
    "print('After Trim Shape: {}'.format(df.shape))\n",
    "print('-Data Examples-')\n",
    "print(df.iloc[::500000, :])"
   ]
  },
  {
   "cell_type": "markdown",
   "id": "3fbfacbe",
   "metadata": {},
   "source": [
    "### Data Mapping"
   ]
  },
  {
   "cell_type": "code",
   "execution_count": 21,
   "id": "0a01cafb",
   "metadata": {},
   "outputs": [],
   "source": [
    "#Set 'MAL_ID' as index\n",
    "anime_clean.set_index('MAL_ID', inplace = True)"
   ]
  },
  {
   "cell_type": "code",
   "execution_count": 22,
   "id": "f4b098c8",
   "metadata": {},
   "outputs": [
    {
     "data": {
      "text/html": [
       "<div>\n",
       "<style scoped>\n",
       "    .dataframe tbody tr th:only-of-type {\n",
       "        vertical-align: middle;\n",
       "    }\n",
       "\n",
       "    .dataframe tbody tr th {\n",
       "        vertical-align: top;\n",
       "    }\n",
       "\n",
       "    .dataframe thead th {\n",
       "        text-align: right;\n",
       "    }\n",
       "</style>\n",
       "<table border=\"1\" class=\"dataframe\">\n",
       "  <thead>\n",
       "    <tr style=\"text-align: right;\">\n",
       "      <th></th>\n",
       "      <th>Name</th>\n",
       "      <th>Score</th>\n",
       "      <th>Rating</th>\n",
       "      <th>Ranked</th>\n",
       "    </tr>\n",
       "    <tr>\n",
       "      <th>MAL_ID</th>\n",
       "      <th></th>\n",
       "      <th></th>\n",
       "      <th></th>\n",
       "      <th></th>\n",
       "    </tr>\n",
       "  </thead>\n",
       "  <tbody>\n",
       "    <tr>\n",
       "      <th>1</th>\n",
       "      <td>Cowboy Bebop</td>\n",
       "      <td>8.78</td>\n",
       "      <td>R - 17+ (violence &amp; profanity)</td>\n",
       "      <td>28.0</td>\n",
       "    </tr>\n",
       "    <tr>\n",
       "      <th>5</th>\n",
       "      <td>Cowboy Bebop: Tengoku no Tobira</td>\n",
       "      <td>8.39</td>\n",
       "      <td>R - 17+ (violence &amp; profanity)</td>\n",
       "      <td>159.0</td>\n",
       "    </tr>\n",
       "    <tr>\n",
       "      <th>6</th>\n",
       "      <td>Trigun</td>\n",
       "      <td>8.24</td>\n",
       "      <td>PG-13 - Teens 13 or older</td>\n",
       "      <td>266.0</td>\n",
       "    </tr>\n",
       "    <tr>\n",
       "      <th>7</th>\n",
       "      <td>Witch Hunter Robin</td>\n",
       "      <td>7.27</td>\n",
       "      <td>PG-13 - Teens 13 or older</td>\n",
       "      <td>2481.0</td>\n",
       "    </tr>\n",
       "    <tr>\n",
       "      <th>8</th>\n",
       "      <td>Bouken Ou Beet</td>\n",
       "      <td>6.98</td>\n",
       "      <td>PG - Children</td>\n",
       "      <td>3710.0</td>\n",
       "    </tr>\n",
       "  </tbody>\n",
       "</table>\n",
       "</div>"
      ],
      "text/plain": [
       "                                   Name Score                          Rating  \\\n",
       "MAL_ID                                                                          \n",
       "1                          Cowboy Bebop  8.78  R - 17+ (violence & profanity)   \n",
       "5       Cowboy Bebop: Tengoku no Tobira  8.39  R - 17+ (violence & profanity)   \n",
       "6                                Trigun  8.24       PG-13 - Teens 13 or older   \n",
       "7                    Witch Hunter Robin  7.27       PG-13 - Teens 13 or older   \n",
       "8                        Bouken Ou Beet  6.98                   PG - Children   \n",
       "\n",
       "        Ranked  \n",
       "MAL_ID          \n",
       "1         28.0  \n",
       "5        159.0  \n",
       "6        266.0  \n",
       "7       2481.0  \n",
       "8       3710.0  "
      ]
     },
     "execution_count": 22,
     "metadata": {},
     "output_type": "execute_result"
    }
   ],
   "source": [
    "anime_clean.head()"
   ]
  },
  {
   "cell_type": "markdown",
   "id": "e5870ccb",
   "metadata": {},
   "source": [
    "### Recommendation with Collaborative Filtering"
   ]
  },
  {
   "cell_type": "code",
   "execution_count": 23,
   "id": "125045cd",
   "metadata": {},
   "outputs": [
    {
     "data": {
      "text/plain": [
       "{'test_rmse': array([2.94887169, 2.93081363, 2.94549773, 2.94346926, 2.95611108]),\n",
       " 'test_mae': array([2.61641675, 2.60724035, 2.62261992, 2.61804519, 2.62685122]),\n",
       " 'fit_time': (4.069001913070679,\n",
       "  4.133916139602661,\n",
       "  4.054877042770386,\n",
       "  4.0320398807525635,\n",
       "  4.076335191726685),\n",
       " 'test_time': (0.09392690658569336,\n",
       "  0.18805289268493652,\n",
       "  0.0796971321105957,\n",
       "  0.12980103492736816,\n",
       "  0.08034515380859375)}"
      ]
     },
     "execution_count": 23,
     "metadata": {},
     "output_type": "execute_result"
    }
   ],
   "source": [
    "reader = Reader()\n",
    "\n",
    "# get just top 100K rows for faster run time\n",
    "data = Dataset.load_from_df(df[['user_id', 'anime_id', 'rating']][:100000], reader)\n",
    "#data.split(n_folds=3)\n",
    "\n",
    "svd = SVD()\n",
    "cross_validate(svd, data, measures=['RMSE', 'MAE'])"
   ]
  },
  {
   "cell_type": "code",
   "execution_count": 24,
   "id": "e04902d6",
   "metadata": {},
   "outputs": [
    {
     "data": {
      "text/html": [
       "<div>\n",
       "<style scoped>\n",
       "    .dataframe tbody tr th:only-of-type {\n",
       "        vertical-align: middle;\n",
       "    }\n",
       "\n",
       "    .dataframe tbody tr th {\n",
       "        vertical-align: top;\n",
       "    }\n",
       "\n",
       "    .dataframe thead th {\n",
       "        text-align: right;\n",
       "    }\n",
       "</style>\n",
       "<table border=\"1\" class=\"dataframe\">\n",
       "  <thead>\n",
       "    <tr style=\"text-align: right;\">\n",
       "      <th></th>\n",
       "      <th>user_id</th>\n",
       "      <th>anime_id</th>\n",
       "      <th>rating</th>\n",
       "    </tr>\n",
       "  </thead>\n",
       "  <tbody>\n",
       "    <tr>\n",
       "      <th>189</th>\n",
       "      <td>3</td>\n",
       "      <td>25835</td>\n",
       "      <td>8</td>\n",
       "    </tr>\n",
       "    <tr>\n",
       "      <th>190</th>\n",
       "      <td>3</td>\n",
       "      <td>28171</td>\n",
       "      <td>8</td>\n",
       "    </tr>\n",
       "    <tr>\n",
       "      <th>191</th>\n",
       "      <td>3</td>\n",
       "      <td>32282</td>\n",
       "      <td>8</td>\n",
       "    </tr>\n",
       "    <tr>\n",
       "      <th>192</th>\n",
       "      <td>3</td>\n",
       "      <td>35788</td>\n",
       "      <td>9</td>\n",
       "    </tr>\n",
       "    <tr>\n",
       "      <th>193</th>\n",
       "      <td>3</td>\n",
       "      <td>9253</td>\n",
       "      <td>9</td>\n",
       "    </tr>\n",
       "    <tr>\n",
       "      <th>...</th>\n",
       "      <td>...</td>\n",
       "      <td>...</td>\n",
       "      <td>...</td>\n",
       "    </tr>\n",
       "    <tr>\n",
       "      <th>57633027</th>\n",
       "      <td>353398</td>\n",
       "      <td>37614</td>\n",
       "      <td>7</td>\n",
       "    </tr>\n",
       "    <tr>\n",
       "      <th>57633028</th>\n",
       "      <td>353398</td>\n",
       "      <td>33421</td>\n",
       "      <td>6</td>\n",
       "    </tr>\n",
       "    <tr>\n",
       "      <th>57633029</th>\n",
       "      <td>353398</td>\n",
       "      <td>37007</td>\n",
       "      <td>4</td>\n",
       "    </tr>\n",
       "    <tr>\n",
       "      <th>57633030</th>\n",
       "      <td>353398</td>\n",
       "      <td>28825</td>\n",
       "      <td>6</td>\n",
       "    </tr>\n",
       "    <tr>\n",
       "      <th>57633032</th>\n",
       "      <td>353398</td>\n",
       "      <td>36296</td>\n",
       "      <td>8</td>\n",
       "    </tr>\n",
       "  </tbody>\n",
       "</table>\n",
       "<p>29141216 rows × 3 columns</p>\n",
       "</div>"
      ],
      "text/plain": [
       "          user_id  anime_id  rating\n",
       "189             3     25835       8\n",
       "190             3     28171       8\n",
       "191             3     32282       8\n",
       "192             3     35788       9\n",
       "193             3      9253       9\n",
       "...           ...       ...     ...\n",
       "57633027   353398     37614       7\n",
       "57633028   353398     33421       6\n",
       "57633029   353398     37007       4\n",
       "57633030   353398     28825       6\n",
       "57633032   353398     36296       8\n",
       "\n",
       "[29141216 rows x 3 columns]"
      ]
     },
     "execution_count": 24,
     "metadata": {},
     "output_type": "execute_result"
    }
   ],
   "source": [
    "df"
   ]
  },
  {
   "cell_type": "markdown",
   "id": "50f7f72b",
   "metadata": {},
   "source": [
    "#### User Rating History"
   ]
  },
  {
   "cell_type": "code",
   "execution_count": 25,
   "id": "9c6e060c",
   "metadata": {},
   "outputs": [
    {
     "name": "stdout",
     "output_type": "stream",
     "text": [
      "Random User ID:  23149\n"
     ]
    }
   ],
   "source": [
    "random_sample = df.sample(n = 1)\n",
    "random_sample = int(random_sample['user_id'])\n",
    "print('Random User ID: ', random_sample)"
   ]
  },
  {
   "cell_type": "code",
   "execution_count": 26,
   "id": "98d1ce3d",
   "metadata": {},
   "outputs": [
    {
     "name": "stdout",
     "output_type": "stream",
     "text": [
      "          user_id  rating                                               Name\n",
      "anime_id                                                                    \n",
      "899         23149       5  Dragon Ball Z Movie 06: Gekitotsu!! 100-oku Po...\n",
      "29589       23149       5                                 Denpa Kyoushi (TV)\n",
      "14893       23149       5  Dakara Boku wa, H ga Dekinai.: Mie Sugi! Mizug...\n",
      "12549       23149       5                      Dakara Boku wa, H ga Dekinai.\n",
      "17397       23149       5                              Cyclops Shoujo Saipuu\n",
      "40064       23149       5  Dungeon ni Deai wo Motomeru no wa Machigatteir...\n",
      "13263       23149       5           Fate/Zero: Onegai! Einzbern Soudanshitsu\n",
      "20365       23149       5                    Another: Misaki Mei - Shizukani\n",
      "713         23149       5                                          Air Movie\n",
      "5112        23149       5                                            Akikan!\n",
      "12505       23149       5                        C³: Rikan Gakkou Confusion!\n",
      "15687       23149       5                Chuunibyou demo Koi ga Shitai! Lite\n",
      "20787       23149       5                                       Black Bullet\n",
      "762         23149       5                       Bleach: Memories in the Rain\n",
      "7088        23149       5                          Ichiban Ushiro no Daimaou\n",
      "940         23149       5                                           Inukami!\n",
      "2132        23149       5  Inukami! The Movie: Tokumei Reiteki Sousakan K...\n",
      "10794       23149       5  IS: Infinite Stratos Encore - Koi ni Kogareru ...\n",
      "3652        23149       5                      Higurashi no Naku Koro ni Rei\n",
      "36754       23149       5                              Kakuriyo no Yadomeshi\n",
      "30901       23149       5                   Utawarerumono: Itsuwari no Kamen\n",
      "16742       23149       5  Watashi ga Motenai no wa Dou Kangaetemo Omaera...\n",
      "39324       23149       5  Uchi no Ko no Tame naraba, Ore wa Moshikashita...\n",
      "15051       23149       5                     Love Live! School Idol Project\n",
      "38397       23149       5                          Nande Koko ni Sensei ga!?\n",
      "24011       23149       5                                   Lance N' Masques\n",
      "17725       23149       5                            Magical☆Star Kanon 100%\n",
      "23945       23149       5                                    Majimoji Rurumo\n",
      "40595       23149       5  Kimi to Boku no Saigo no Senjou, Aruiwa Sekai ...\n",
      "667         23149       5                        Kashimashi: Girl Meets Girl\n",
      "19685       23149       5                        Kanojo ga Flag wo Oraretara\n",
      "13367       23149       5                Kono Naka ni Hitori, Imouto ga Iru!\n",
      "15609       23149       5  Kono Naka ni Hitori, Imouto ga Iru!: Ani, Imou...\n",
      "32561       23149       5  Hai to Gensou no Grimgar: Furoagari no Kabe ni...\n",
      "15119       23149       5                                      Senran Kagura\n",
      "13055       23149       5                                       Sankarea OVA\n",
      "19391       23149       5                   Shingeki no Kyojin Picture Drama\n",
      "9731        23149       5                          Nurarihyon no Mago Recaps\n",
      "31716       23149       5                                            Rewrite\n",
      "28617       23149       5                                         Punch Line\n",
      "1564        23149       5                        Pokemon Advanced Generation\n",
      "2363        23149       5                                Pokemon Housoukyoku\n",
      "38830       23149       5                 Hachi-nan tte, Sore wa Nai deshou!\n",
      "38483       23149       5                Ore wo Suki nano wa Omae dake ka yo\n",
      "15881       23149       5  Oniichan dakedo Ai sae Areba Kankeinai yo ne! ...\n",
      "27891       23149       5                    Sword Art Online II: Debriefing\n"
     ]
    }
   ],
   "source": [
    "user_history = df[(df['user_id'] == random_sample) & (df['rating'] == 5)]\n",
    "user_history = user_history.set_index('anime_id')\n",
    "user_history = user_history.join(anime_clean['Name'])\n",
    "print(user_history)"
   ]
  },
  {
   "cell_type": "markdown",
   "id": "914408d5",
   "metadata": {},
   "source": [
    "#### Recommendations for Random User"
   ]
  },
  {
   "cell_type": "code",
   "execution_count": 27,
   "id": "e97de714",
   "metadata": {},
   "outputs": [],
   "source": [
    "random_user_rec = anime_clean.copy()\n",
    "random_user_rec = random_user_rec.reset_index()\n",
    "random_user_rec = random_user_rec[~random_user_rec['MAL_ID'].isin(drop_anime_list)]"
   ]
  },
  {
   "cell_type": "code",
   "execution_count": 28,
   "id": "d634c6d9",
   "metadata": {},
   "outputs": [],
   "source": [
    "# getting full dataset\n",
    "data = Dataset.load_from_df(df[['user_id', 'anime_id', 'rating']], reader)\n",
    "\n",
    "trainset = data.build_full_trainset()\n",
    "svd.fit(trainset)\n",
    "\n",
    "random_user_rec['Estimate_Score'] = random_user_rec['MAL_ID'].apply(lambda x: svd.predict(random_sample, x).est)\n",
    "\n",
    "random_user_rec = random_user_rec.drop('MAL_ID', axis = 1)\n",
    "\n",
    "random_user_rec = random_user_rec.sort_values('Estimate_Score', ascending=False)"
   ]
  },
  {
   "cell_type": "code",
   "execution_count": 29,
   "id": "067cc2e4",
   "metadata": {
    "scrolled": true
   },
   "outputs": [
    {
     "data": {
      "text/html": [
       "<div>\n",
       "<style scoped>\n",
       "    .dataframe tbody tr th:only-of-type {\n",
       "        vertical-align: middle;\n",
       "    }\n",
       "\n",
       "    .dataframe tbody tr th {\n",
       "        vertical-align: top;\n",
       "    }\n",
       "\n",
       "    .dataframe thead th {\n",
       "        text-align: right;\n",
       "    }\n",
       "</style>\n",
       "<table border=\"1\" class=\"dataframe\">\n",
       "  <thead>\n",
       "    <tr style=\"text-align: right;\">\n",
       "      <th></th>\n",
       "      <th>Name</th>\n",
       "      <th>Score</th>\n",
       "      <th>Rating</th>\n",
       "      <th>Ranked</th>\n",
       "      <th>Estimate_Score</th>\n",
       "    </tr>\n",
       "  </thead>\n",
       "  <tbody>\n",
       "    <tr>\n",
       "      <th>0</th>\n",
       "      <td>Cowboy Bebop</td>\n",
       "      <td>8.78</td>\n",
       "      <td>R - 17+ (violence &amp; profanity)</td>\n",
       "      <td>28.0</td>\n",
       "      <td>5.0</td>\n",
       "    </tr>\n",
       "    <tr>\n",
       "      <th>11196</th>\n",
       "      <td>Hibike! Euphonium 2</td>\n",
       "      <td>8.3</td>\n",
       "      <td>PG-13 - Teens 13 or older</td>\n",
       "      <td>228.0</td>\n",
       "      <td>5.0</td>\n",
       "    </tr>\n",
       "    <tr>\n",
       "      <th>11129</th>\n",
       "      <td>Arslan Senki (TV): Fuujin Ranbu</td>\n",
       "      <td>7.53</td>\n",
       "      <td>PG-13 - Teens 13 or older</td>\n",
       "      <td>1484.0</td>\n",
       "      <td>5.0</td>\n",
       "    </tr>\n",
       "    <tr>\n",
       "      <th>11140</th>\n",
       "      <td>Ojisan to Marshmallow</td>\n",
       "      <td>6.6</td>\n",
       "      <td>PG-13 - Teens 13 or older</td>\n",
       "      <td>5348.0</td>\n",
       "      <td>5.0</td>\n",
       "    </tr>\n",
       "    <tr>\n",
       "      <th>11143</th>\n",
       "      <td>Hai to Gensou no Grimgar</td>\n",
       "      <td>7.69</td>\n",
       "      <td>PG-13 - Teens 13 or older</td>\n",
       "      <td>1061.0</td>\n",
       "      <td>5.0</td>\n",
       "    </tr>\n",
       "    <tr>\n",
       "      <th>11165</th>\n",
       "      <td>Big Order (TV)</td>\n",
       "      <td>5.4</td>\n",
       "      <td>R+ - Mild Nudity</td>\n",
       "      <td>9909.0</td>\n",
       "      <td>5.0</td>\n",
       "    </tr>\n",
       "    <tr>\n",
       "      <th>11170</th>\n",
       "      <td>Shoujo-tachi wa Kouya wo Mezasu</td>\n",
       "      <td>6.33</td>\n",
       "      <td>PG-13 - Teens 13 or older</td>\n",
       "      <td>6742.0</td>\n",
       "      <td>5.0</td>\n",
       "    </tr>\n",
       "    <tr>\n",
       "      <th>11171</th>\n",
       "      <td>Owaranai Seraph: Nagoya-hen</td>\n",
       "      <td>7.31</td>\n",
       "      <td>PG-13 - Teens 13 or older</td>\n",
       "      <td>2306.0</td>\n",
       "      <td>5.0</td>\n",
       "    </tr>\n",
       "    <tr>\n",
       "      <th>11178</th>\n",
       "      <td>Full Metal Panic! Invisible Victory</td>\n",
       "      <td>7.6</td>\n",
       "      <td>R - 17+ (violence &amp; profanity)</td>\n",
       "      <td>1281.0</td>\n",
       "      <td>5.0</td>\n",
       "    </tr>\n",
       "    <tr>\n",
       "      <th>11179</th>\n",
       "      <td>JoJo no Kimyou na Bouken Part 4: Diamond wa Ku...</td>\n",
       "      <td>8.51</td>\n",
       "      <td>R - 17+ (violence &amp; profanity)</td>\n",
       "      <td>100.0</td>\n",
       "      <td>5.0</td>\n",
       "    </tr>\n",
       "  </tbody>\n",
       "</table>\n",
       "</div>"
      ],
      "text/plain": [
       "                                                    Name Score  \\\n",
       "0                                           Cowboy Bebop  8.78   \n",
       "11196                                Hibike! Euphonium 2   8.3   \n",
       "11129                    Arslan Senki (TV): Fuujin Ranbu  7.53   \n",
       "11140                              Ojisan to Marshmallow   6.6   \n",
       "11143                           Hai to Gensou no Grimgar  7.69   \n",
       "11165                                     Big Order (TV)   5.4   \n",
       "11170                    Shoujo-tachi wa Kouya wo Mezasu  6.33   \n",
       "11171                        Owaranai Seraph: Nagoya-hen  7.31   \n",
       "11178                Full Metal Panic! Invisible Victory   7.6   \n",
       "11179  JoJo no Kimyou na Bouken Part 4: Diamond wa Ku...  8.51   \n",
       "\n",
       "                               Rating  Ranked  Estimate_Score  \n",
       "0      R - 17+ (violence & profanity)    28.0             5.0  \n",
       "11196       PG-13 - Teens 13 or older   228.0             5.0  \n",
       "11129       PG-13 - Teens 13 or older  1484.0             5.0  \n",
       "11140       PG-13 - Teens 13 or older  5348.0             5.0  \n",
       "11143       PG-13 - Teens 13 or older  1061.0             5.0  \n",
       "11165                R+ - Mild Nudity  9909.0             5.0  \n",
       "11170       PG-13 - Teens 13 or older  6742.0             5.0  \n",
       "11171       PG-13 - Teens 13 or older  2306.0             5.0  \n",
       "11178  R - 17+ (violence & profanity)  1281.0             5.0  \n",
       "11179  R - 17+ (violence & profanity)   100.0             5.0  "
      ]
     },
     "execution_count": 29,
     "metadata": {},
     "output_type": "execute_result"
    }
   ],
   "source": [
    "random_user_rec.head(10)"
   ]
  },
  {
   "cell_type": "markdown",
   "id": "eccb5d60",
   "metadata": {},
   "source": [
    "### Recommendation using Pearsons R Correlation"
   ]
  },
  {
   "cell_type": "markdown",
   "id": "9d0c5d92",
   "metadata": {},
   "source": [
    "#### Pivot Dataframe"
   ]
  },
  {
   "cell_type": "code",
   "execution_count": 30,
   "id": "6f2324f8",
   "metadata": {},
   "outputs": [
    {
     "name": "stdout",
     "output_type": "stream",
     "text": [
      "(62086, 3376)\n"
     ]
    }
   ],
   "source": [
    "ratings_pivot = pd.pivot_table(df,values='rating',index='user_id',columns='anime_id')\n",
    "\n",
    "print(ratings_pivot.shape)"
   ]
  },
  {
   "cell_type": "code",
   "execution_count": 31,
   "id": "3cd7dab2",
   "metadata": {},
   "outputs": [],
   "source": [
    "def recommend(anime_title, min_count):\n",
    "    print(\"For Anime : {}\".format(anime_title))\n",
    "    print(\"- Top 10 Anime recommended based on Pearsons' R correlation -\")\n",
    "    i = int(anime_clean.index[anime_clean['Name'] == anime_title][0])\n",
    "    target = ratings_pivot[i]\n",
    "    similar_to_target = ratings_pivot.corrwith(target)\n",
    "    corr_target = pd.DataFrame(similar_to_target, columns = ['PearsonR'])\n",
    "    corr_target.dropna(inplace = True)\n",
    "    corr_target = corr_target.sort_values('PearsonR', ascending = False)\n",
    "    corr_target.index = corr_target.index.map(int)\n",
    "    corr_target = corr_target.join(anime_clean).join(df_anime_summary)[['PearsonR', 'Name', 'count', 'mean']]\n",
    "    print(corr_target[corr_target['count']>min_count][:10].to_string(index=False))"
   ]
  },
  {
   "cell_type": "code",
   "execution_count": 38,
   "id": "daa1e390",
   "metadata": {},
   "outputs": [
    {
     "name": "stdout",
     "output_type": "stream",
     "text": [
      "For Anime : Fairy Tail\n",
      "- Top 10 Anime recommended based on Pearsons' R correlation -\n",
      " PearsonR                                                Name  count     mean\n",
      " 1.000000                                          Fairy Tail  66828 7.905713\n",
      " 0.847075                                   Fairy Tail (2014)  34384 7.853973\n",
      " 0.757795                                      Fairy Tail OVA  17650 7.418017\n",
      " 0.724915                            Fairy Tail: Final Series  13729 7.543740\n",
      " 0.712587                   Fairy Tail Movie 1: Houou no Miko  19733 7.344702\n",
      " 0.673927                                   Fairy Tail x Rave  13093 7.118002\n",
      " 0.672335                               Fairy Tail OVA (2016)   6153 7.064684\n",
      " 0.657984                      Fairy Tail Movie 2: Dragon Cry   9807 7.370654\n",
      " 0.644841 Fairy Tail Movie 1: Houou no Miko - Hajimari no Asa   8848 7.173033\n",
      " 0.625177                                    Sword Art Online 161192 7.403593\n"
     ]
    }
   ],
   "source": [
    "recommend(\"Fairy Tail\", 0)"
   ]
  }
 ],
 "metadata": {
  "kernelspec": {
   "display_name": "Python 3 (ipykernel)",
   "language": "python",
   "name": "python3"
  },
  "language_info": {
   "codemirror_mode": {
    "name": "ipython",
    "version": 3
   },
   "file_extension": ".py",
   "mimetype": "text/x-python",
   "name": "python",
   "nbconvert_exporter": "python",
   "pygments_lexer": "ipython3",
   "version": "3.9.7"
  }
 },
 "nbformat": 4,
 "nbformat_minor": 5
}
